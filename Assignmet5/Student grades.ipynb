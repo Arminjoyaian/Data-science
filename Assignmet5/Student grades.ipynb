{
 "cells": [
  {
   "cell_type": "code",
   "execution_count": 1,
   "id": "23fc072c",
   "metadata": {},
   "outputs": [],
   "source": [
    "import numpy as np"
   ]
  },
  {
   "cell_type": "code",
   "execution_count": 2,
   "id": "47bc6017",
   "metadata": {},
   "outputs": [
    {
     "name": "stdout",
     "output_type": "stream",
     "text": [
      "Enter a name :armin\n",
      "Enter a name :lili\n",
      "Enter a name :ope\n",
      "Enter a name :yas\n",
      "Enter a name :mim\n"
     ]
    },
    {
     "data": {
      "text/plain": [
       "['armin', 'lili', 'ope', 'yas', 'mim']"
      ]
     },
     "execution_count": 2,
     "metadata": {},
     "output_type": "execute_result"
    }
   ],
   "source": [
    "n1 = input(\"Enter a name :\")\n",
    "n2 = input(\"Enter a name :\")\n",
    "n3 = input(\"Enter a name :\")\n",
    "n4 = input(\"Enter a name :\")\n",
    "n5 = input(\"Enter a name :\")\n",
    "list1 = [n1 , n2 , n3 , n4 , n5]\n",
    "list1"
   ]
  },
  {
   "cell_type": "code",
   "execution_count": 4,
   "id": "fd1a418d",
   "metadata": {},
   "outputs": [
    {
     "name": "stdout",
     "output_type": "stream",
     "text": [
      "is a nomre armin:20\n",
      "is a nomre armin:18\n",
      "is a nomre armin:20\n",
      "is a nomre armin:19\n",
      "is a nomre armin:28\n",
      "is a nomre armin:10\n",
      "is a nomre armin:20\n",
      "is a nomre armin:19\n",
      "is a nomre armin:20\n",
      "is a nomre armin:13\n"
     ]
    },
    {
     "data": {
      "text/plain": [
       "array([20., 18., 20., 19., 28., 10., 20., 19., 20., 13.])"
      ]
     },
     "execution_count": 4,
     "metadata": {},
     "output_type": "execute_result"
    }
   ],
   "source": [
    "armin = []\n",
    "for i in range(10):\n",
    "    nomre = float(input(\"is a nomre armin:\"))\n",
    "    armin.append(nomre)\n",
    "armin = np.array(armin)\n",
    "armin"
   ]
  },
  {
   "cell_type": "code",
   "execution_count": 15,
   "id": "efe0db7c",
   "metadata": {},
   "outputs": [
    {
     "data": {
      "text/plain": [
       "['armin', 18.7]"
      ]
     },
     "execution_count": 15,
     "metadata": {},
     "output_type": "execute_result"
    }
   ],
   "source": [
    "m1 = np.mean(armin)\n",
    "armin_1 = [n1,m1]\n",
    "armin_1"
   ]
  },
  {
   "cell_type": "code",
   "execution_count": 7,
   "id": "b40ba89a",
   "metadata": {},
   "outputs": [
    {
     "name": "stdout",
     "output_type": "stream",
     "text": [
      "is a nomre lili:20\n",
      "is a nomre lili:20\n",
      "is a nomre lili:20\n",
      "is a nomre lili:19\n",
      "is a nomre lili:20\n",
      "is a nomre lili:20\n",
      "is a nomre lili:20\n",
      "is a nomre lili:20\n",
      "is a nomre lili:20\n",
      "is a nomre lili:20\n"
     ]
    },
    {
     "data": {
      "text/plain": [
       "array([20., 20., 20., 19., 20., 20., 20., 20., 20., 20.])"
      ]
     },
     "execution_count": 7,
     "metadata": {},
     "output_type": "execute_result"
    }
   ],
   "source": [
    "lili = []\n",
    "for i in range(10):\n",
    "    nomre_1 = float(input(\"is a nomre lili:\"))\n",
    "    lili.append(nomre_1)\n",
    "lili = np.array(lili)\n",
    "lili"
   ]
  },
  {
   "cell_type": "code",
   "execution_count": 16,
   "id": "bf75a8da",
   "metadata": {},
   "outputs": [
    {
     "data": {
      "text/plain": [
       "['lili', 19.9]"
      ]
     },
     "execution_count": 16,
     "metadata": {},
     "output_type": "execute_result"
    }
   ],
   "source": [
    "m2 = np.mean(lili)\n",
    "lili_1 = [n2,m2]\n",
    "lili_1"
   ]
  },
  {
   "cell_type": "code",
   "execution_count": 9,
   "id": "5690db9d",
   "metadata": {},
   "outputs": [
    {
     "name": "stdout",
     "output_type": "stream",
     "text": [
      "is a nomre ope:19\n",
      "is a nomre ope:12\n",
      "is a nomre ope:14\n",
      "is a nomre ope:16\n",
      "is a nomre ope:18\n",
      "is a nomre ope:19\n",
      "is a nomre ope:20\n",
      "is a nomre ope:20\n",
      "is a nomre ope:12\n",
      "is a nomre ope:14\n"
     ]
    },
    {
     "data": {
      "text/plain": [
       "array([19., 12., 14., 16., 18., 19., 20., 20., 12., 14.])"
      ]
     },
     "execution_count": 9,
     "metadata": {},
     "output_type": "execute_result"
    }
   ],
   "source": [
    "ope = []\n",
    "for i in range(10):\n",
    "    nomre = float(input(\"is a nomre ope:\"))\n",
    "    ope.append(nomre)\n",
    "ope = np.array(ope)\n",
    "ope"
   ]
  },
  {
   "cell_type": "markdown",
   "id": "594d95a2",
   "metadata": {},
   "source": []
  },
  {
   "cell_type": "code",
   "execution_count": 17,
   "id": "a4333f50",
   "metadata": {},
   "outputs": [
    {
     "data": {
      "text/plain": [
       "['ope', 16.4]"
      ]
     },
     "execution_count": 17,
     "metadata": {},
     "output_type": "execute_result"
    }
   ],
   "source": [
    "m3 = np.mean(ope)\n",
    "ope_1 = [n3,m3]\n",
    "ope_1"
   ]
  },
  {
   "cell_type": "code",
   "execution_count": 12,
   "id": "ee47ee66",
   "metadata": {},
   "outputs": [
    {
     "name": "stdout",
     "output_type": "stream",
     "text": [
      "is a nomre yas:20\n",
      "is a nomre yas:19\n",
      "is a nomre yas:20\n",
      "is a nomre yas:20\n",
      "is a nomre yas:18\n",
      "is a nomre yas:27\n",
      "is a nomre yas:2\n",
      "is a nomre yas:13\n",
      "is a nomre yas:20\n",
      "is a nomre yas:3\n"
     ]
    },
    {
     "data": {
      "text/plain": [
       "array([20., 19., 20., 20., 18., 27.,  2., 13., 20.,  3.])"
      ]
     },
     "execution_count": 12,
     "metadata": {},
     "output_type": "execute_result"
    }
   ],
   "source": [
    "yas = []\n",
    "for i in range(10):\n",
    "    nomre = float(input(\"is a nomre yas:\"))\n",
    "    yas.append(nomre)\n",
    "yas = np.array(yas)\n",
    "yas"
   ]
  },
  {
   "cell_type": "code",
   "execution_count": 18,
   "id": "d225291f",
   "metadata": {},
   "outputs": [
    {
     "data": {
      "text/plain": [
       "['yas', 16.2]"
      ]
     },
     "execution_count": 18,
     "metadata": {},
     "output_type": "execute_result"
    }
   ],
   "source": [
    "m4 = np.mean(yas)\n",
    "yas_1 = [n4,m4]\n",
    "yas_1"
   ]
  },
  {
   "cell_type": "code",
   "execution_count": 19,
   "id": "2b19e2c8",
   "metadata": {},
   "outputs": [
    {
     "name": "stdout",
     "output_type": "stream",
     "text": [
      "is a nomre mim:20\n",
      "is a nomre mim:12\n",
      "is a nomre mim:14\n",
      "is a nomre mim:20\n",
      "is a nomre mim:20\n",
      "is a nomre mim:15\n",
      "is a nomre mim:20\n",
      "is a nomre mim:12\n",
      "is a nomre mim:1\n",
      "is a nomre mim:13\n"
     ]
    },
    {
     "data": {
      "text/plain": [
       "array([20., 12., 14., 20., 20., 15., 20., 12.,  1., 13.])"
      ]
     },
     "execution_count": 19,
     "metadata": {},
     "output_type": "execute_result"
    }
   ],
   "source": [
    "mim = []\n",
    "for i in range(10):\n",
    "    nomre = float(input(\"is a nomre mim:\"))\n",
    "    mim.append(nomre)\n",
    "mim = np.array(mim)\n",
    "mim"
   ]
  },
  {
   "cell_type": "code",
   "execution_count": 21,
   "id": "39512e43",
   "metadata": {},
   "outputs": [
    {
     "data": {
      "text/plain": [
       "['mim', 16.2]"
      ]
     },
     "execution_count": 21,
     "metadata": {},
     "output_type": "execute_result"
    }
   ],
   "source": [
    "m5 = np.mean(yas)\n",
    "mim = [n5,m5]\n",
    "mim"
   ]
  },
  {
   "cell_type": "code",
   "execution_count": null,
   "id": "9789815f",
   "metadata": {},
   "outputs": [],
   "source": [
    "mim , yas_1 , armin_"
   ]
  }
 ],
 "metadata": {
  "kernelspec": {
   "display_name": "Python 3 (ipykernel)",
   "language": "python",
   "name": "python3"
  },
  "language_info": {
   "codemirror_mode": {
    "name": "ipython",
    "version": 3
   },
   "file_extension": ".py",
   "mimetype": "text/x-python",
   "name": "python",
   "nbconvert_exporter": "python",
   "pygments_lexer": "ipython3",
   "version": "3.11.5"
  }
 },
 "nbformat": 4,
 "nbformat_minor": 5
}
