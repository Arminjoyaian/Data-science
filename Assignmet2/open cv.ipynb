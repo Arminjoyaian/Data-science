{
 "cells": [
  {
   "cell_type": "markdown",
   "id": "bad69f34",
   "metadata": {},
   "source": [
    "# First, we import an xml file\n",
    "# And then we give the address of our photo\n",
    "# And then we show the crop color\n",
    "# And then we divide our photo into x, y, w, h and then we cut the crop size of the face.\n",
    "# And then I will show our picture"
   ]
  },
  {
   "cell_type": "code",
   "execution_count": null,
   "id": "570a821e",
   "metadata": {},
   "outputs": [],
   "source": []
  }
 ],
 "metadata": {
  "kernelspec": {
   "display_name": "Python 3 (ipykernel)",
   "language": "python",
   "name": "python3"
  },
  "language_info": {
   "codemirror_mode": {
    "name": "ipython",
    "version": 3
   },
   "file_extension": ".py",
   "mimetype": "text/x-python",
   "name": "python",
   "nbconvert_exporter": "python",
   "pygments_lexer": "ipython3",
   "version": "3.11.5"
  }
 },
 "nbformat": 4,
 "nbformat_minor": 5
}
