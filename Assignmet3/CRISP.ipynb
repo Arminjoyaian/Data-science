{
 "cells": [
  {
   "cell_type": "markdown",
   "id": "e3a861c4",
   "metadata": {},
   "source": [
    "# Business Understanding"
   ]
  },
  {
   "cell_type": "markdown",
   "id": "5d984e91",
   "metadata": {},
   "source": [
    "### It means understanding and business. At this stage, data science takes place, and at this stage, we must use different angles of existing restriction"
   ]
  },
  {
   "cell_type": "markdown",
   "id": "16805de5",
   "metadata": {},
   "source": []
  },
  {
   "cell_type": "markdown",
   "id": "b71ed28e",
   "metadata": {},
   "source": []
  },
  {
   "cell_type": "markdown",
   "id": "bff72ae3",
   "metadata": {},
   "source": [
    "s and conditions."
   ]
  },
  {
   "cell_type": "markdown",
   "id": "6df3f313",
   "metadata": {},
   "source": [
    "#### _____________________________________________________________________________________________"
   ]
  },
  {
   "cell_type": "markdown",
   "id": "6ce2eac5",
   "metadata": {},
   "source": [
    "# Data Understanding"
   ]
  },
  {
   "cell_type": "markdown",
   "id": "556ce829",
   "metadata": {},
   "source": [
    "### We go to the data that we gave to the business, data and understanding its different dimensions and characteristics, we can propose different ideas and determine the main structure of the project."
   ]
  },
  {
   "cell_type": "markdown",
   "id": "2bdaaa1e",
   "metadata": {},
   "source": [
    "#### _____________________________________________________________________________________________________"
   ]
  },
  {
   "cell_type": "markdown",
   "id": "d76eed44",
   "metadata": {},
   "source": [
    "# Data Preparation"
   ]
  },
  {
   "cell_type": "markdown",
   "id": "2fcc30c4",
   "metadata": {},
   "source": [
    "### Data analysis and modeling can be done, that is, dirty data can be turned into clean data"
   ]
  },
  {
   "cell_type": "markdown",
   "id": "62e28d3a",
   "metadata": {},
   "source": [
    "#### ________________________________________________________________________________________"
   ]
  },
  {
   "cell_type": "markdown",
   "id": "92c0394f",
   "metadata": {},
   "source": [
    "# Modeling"
   ]
  },
  {
   "cell_type": "markdown",
   "id": "2594a217",
   "metadata": {},
   "source": [
    "### At this stage, you should do your own algorithm and methods, and you should use the class algorithm"
   ]
  },
  {
   "cell_type": "markdown",
   "id": "951821cf",
   "metadata": {},
   "source": [
    "#### _________________________________________________________________________________________"
   ]
  },
  {
   "cell_type": "markdown",
   "id": "735368b4",
   "metadata": {},
   "source": [
    "# Evaluation"
   ]
  },
  {
   "cell_type": "markdown",
   "id": "723c6604",
   "metadata": {},
   "source": [
    "### At this stage, you should evaluate your data"
   ]
  },
  {
   "cell_type": "markdown",
   "id": "c696b713",
   "metadata": {},
   "source": [
    "#### __________________________________________________________________________________"
   ]
  },
  {
   "cell_type": "markdown",
   "id": "7d75c8f8",
   "metadata": {},
   "source": [
    "# Deploy"
   ]
  },
  {
   "cell_type": "markdown",
   "id": "f5785d78",
   "metadata": {},
   "source": [
    "### Finally, you need to develop software so that users can benefit from your efforts. This step is usually done with the help of software engineers and programmers"
   ]
  }
 ],
 "metadata": {
  "kernelspec": {
   "display_name": "Python 3 (ipykernel)",
   "language": "python",
   "name": "python3"
  },
  "language_info": {
   "codemirror_mode": {
    "name": "ipython",
    "version": 3
   },
   "file_extension": ".py",
   "mimetype": "text/x-python",
   "name": "python",
   "nbconvert_exporter": "python",
   "pygments_lexer": "ipython3",
   "version": "3.11.5"
  }
 },
 "nbformat": 4,
 "nbformat_minor": 5
}
